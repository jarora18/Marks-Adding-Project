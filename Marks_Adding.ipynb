{
  "nbformat": 4,
  "nbformat_minor": 0,
  "metadata": {
    "colab": {
      "provenance": [],
      "authorship_tag": "ABX9TyM1jU91gTri4j79ct586phc",
      "include_colab_link": true
    },
    "kernelspec": {
      "name": "python3",
      "display_name": "Python 3"
    },
    "language_info": {
      "name": "python"
    }
  },
  "cells": [
    {
      "cell_type": "markdown",
      "metadata": {
        "id": "view-in-github",
        "colab_type": "text"
      },
      "source": [
        "<a href=\"https://colab.research.google.com/github/jarora18/Marks-Adding-Project/blob/main/Marks_Adding.ipynb\" target=\"_parent\"><img src=\"https://colab.research.google.com/assets/colab-badge.svg\" alt=\"Open In Colab\"/></a>"
      ]
    },
    {
      "cell_type": "code",
      "execution_count": 4,
      "metadata": {
        "colab": {
          "base_uri": "https://localhost:8080/"
        },
        "id": "_uU0-44h0i7c",
        "outputId": "4cda7213-a1d1-4b00-c5a2-dbe5736e6148"
      },
      "outputs": [
        {
          "output_type": "stream",
          "name": "stdout",
          "text": [
            "Total marks written to total_marks.txt\n"
          ]
        }
      ],
      "source": [
        "import pandas as pd\n",
        "\n",
        "df = pd.read_csv(\"input.csv\")\n",
        "\n",
        "\n",
        "total = df['Marks'].sum()\n",
        "\n",
        "\n",
        "with open(\"total_marks.txt\", \"w\") as f:\n",
        "    f.write(f\"Total Marks: {total}\\n\")\n",
        "\n",
        "print(\"Total marks written to total_marks.txt\")\n",
        "\n"
      ]
    }
  ]
}